{
 "cells": [
  {
   "cell_type": "markdown",
   "metadata": {},
   "source": [
    "# Character-level language models\n",
    "\n",
    "This tutorial shows how to train a character-level language model with a multilayer recurrent neural network. In particular, we will train a multilayer LSTM network that is able to generate text.\n",
    "\n"
   ]
  },
  {
   "cell_type": "markdown",
   "metadata": {},
   "source": [
    "## Import necessary package\n",
    "\n",
    "Import necessary package"
   ]
  },
  {
   "cell_type": "code",
   "execution_count": 1,
   "metadata": {
    "scrolled": true
   },
   "outputs": [],
   "source": [
    "import os\n",
    "import urllib"
   ]
  },
  {
   "cell_type": "markdown",
   "metadata": {},
   "source": [
    "## Prepare data\n",
    "We first open the target file to build the vocab"
   ]
  },
  {
   "cell_type": "code",
   "execution_count": 2,
   "metadata": {},
   "outputs": [],
   "source": [
    "# target_file = './data/shediao.txt'\n",
    "target_file = './data/shediao_11_17.txt'"
   ]
  },
  {
   "cell_type": "markdown",
   "metadata": {},
   "source": [
    "Then we define a few utility functions to pre-process the dataset."
   ]
  },
  {
   "cell_type": "code",
   "execution_count": 3,
   "metadata": {},
   "outputs": [
    {
     "name": "stdout",
     "output_type": "stream",
     "text": [
      "vocab size = 3042\n"
     ]
    }
   ],
   "source": [
    "word_per_line = 64\n",
    "\n",
    "def read_content_seperate(path):\n",
    "    max_word_number = word_per_line\n",
    "    result_string = ''\n",
    "    with open(path) as ins:   \n",
    "        for line in ins:\n",
    "            temp_string = line.decode('utf-8')\n",
    "            if len(temp_string) < max_word_number:\n",
    "                result_string = result_string + '\\n' + temp_string\n",
    "            else:\n",
    "                segment_number = int(len(temp_string)/max_word_number)\n",
    "                for i in range(segment_number):\n",
    "                    result_string = result_string + '\\n' + temp_string[i*max_word_number: (i+1)*max_word_number]\n",
    "            \n",
    "                result_string = result_string + '\\n' + temp_string[(i+1)*max_word_number:]\n",
    "                \n",
    "    return result_string\n",
    "\n",
    "def read_content_whole(path):\n",
    "    with open(path) as ins:        \n",
    "        return ins.read().decode('utf-8')\n",
    "    \n",
    "def read_content(path):\n",
    "    return read_content_seperate(path)\n",
    "        \n",
    "        \n",
    "# Return a dict which maps each char into an unique int id\n",
    "def build_vocab(path):\n",
    "    content = list(read_content(path))\n",
    "    idx = 1 # 0 is left for zero-padding\n",
    "    the_vocab = {}\n",
    "    for word in content:\n",
    "        if len(word) == 0:\n",
    "            continue\n",
    "        if not word in the_vocab:\n",
    "            the_vocab[word] = idx\n",
    "            idx += 1\n",
    "    return the_vocab\n",
    "\n",
    "# Encode a sentence with int ids\n",
    "def text2id(sentence, the_vocab):\n",
    "    words = list(sentence)\n",
    "    return [the_vocab[w] for w in words if len(w) > 0]\n",
    "            \n",
    "# build char vocabluary from input\n",
    "vocab = build_vocab(target_file)\n",
    "print('vocab size = %d' %(len(vocab)))"
   ]
  },
  {
   "cell_type": "code",
   "execution_count": 4,
   "metadata": {},
   "outputs": [],
   "source": [
    "import mxnet as mx\n",
    "import numpy as np"
   ]
  },
  {
   "cell_type": "code",
   "execution_count": 5,
   "metadata": {},
   "outputs": [],
   "source": [
    "# checkpoint_path = './checkpoint/shediao'\n",
    "checkpoint_path = './checkpoint/shediao_part'"
   ]
  },
  {
   "cell_type": "code",
   "execution_count": 6,
   "metadata": {},
   "outputs": [],
   "source": [
    "num_lstm_layer = 3\n",
    "num_hidden = 512\n",
    "num_embed = 256"
   ]
  },
  {
   "cell_type": "markdown",
   "metadata": {},
   "source": [
    "# Inference\n",
    "\n",
    "We first define some utility functions to help us make inferences:"
   ]
  },
  {
   "cell_type": "code",
   "execution_count": 7,
   "metadata": {},
   "outputs": [],
   "source": [
    "from rnn_model import LSTMInferenceModel\n",
    "\n",
    "\n",
    "# helper strcuture for prediction\n",
    "def MakeRevertVocab(vocab):\n",
    "    dic = {}\n",
    "    for k, v in vocab.items():\n",
    "        dic[v] = k\n",
    "    return dic\n",
    "\n",
    "# make input from char\n",
    "def MakeInput(char, vocab, arr):\n",
    "    idx = vocab[char]\n",
    "    tmp = np.zeros((1,))\n",
    "    tmp[0] = idx\n",
    "    arr[:] = tmp\n",
    "\n",
    "# helper function for random sample \n",
    "def _cdf(weights):\n",
    "    total = sum(weights)\n",
    "    result = []\n",
    "    cumsum = 0\n",
    "    for w in weights:\n",
    "        cumsum += w\n",
    "        result.append(cumsum / total)\n",
    "    return result\n",
    "\n",
    "def _choice(population, weights):\n",
    "    assert len(population) == len(weights)\n",
    "    cdf_vals = _cdf(weights)\n",
    "    x = random.random()\n",
    "    idx = bisect.bisect(cdf_vals, x)\n",
    "    return population[idx]\n",
    "\n",
    "# we can use random output or fixed output by choosing largest probability\n",
    "def MakeOutput(prob, vocab, sample=False, temperature=1.):\n",
    "    if sample == False:\n",
    "        idx = np.argmax(prob, axis=1)[0]\n",
    "    else:\n",
    "        fix_dict = [\"\"] + [vocab[i] for i in range(1, len(vocab) + 1)]\n",
    "        scale_prob = np.clip(prob, 1e-6, 1 - 1e-6)\n",
    "        rescale = np.exp(np.log(scale_prob) / temperature)\n",
    "        rescale[:] /= rescale.sum()\n",
    "        return _choice(fix_dict, rescale[0, :])\n",
    "    try:\n",
    "        char = vocab[idx]\n",
    "    except:\n",
    "        char = ''\n",
    "    return char"
   ]
  },
  {
   "cell_type": "code",
   "execution_count": 8,
   "metadata": {},
   "outputs": [],
   "source": [
    "def generate(input_string):\n",
    "    output = input_string.decode('utf-8')\n",
    "    seq_length = 600\n",
    "    input_ndarray = mx.nd.zeros((1,))\n",
    "    revert_vocab = MakeRevertVocab(vocab)\n",
    "    # Feel free to change the starter sentence\n",
    "    random_sample = False\n",
    "    new_sentence = True\n",
    "\n",
    "    ignore_length = len(output)\n",
    "\n",
    "    for i in range(seq_length):\n",
    "        if i <= ignore_length - 1:\n",
    "            MakeInput(output[i], vocab, input_ndarray)\n",
    "        else:\n",
    "            MakeInput(output[-1], vocab, input_ndarray)\n",
    "        prob = model.forward(input_ndarray, new_sentence)\n",
    "        new_sentence = False\n",
    "        next_char = MakeOutput(prob, revert_vocab, random_sample)\n",
    "        if next_char == '':\n",
    "            new_sentence = True\n",
    "        if i >= ignore_length - 1:\n",
    "            output += next_char\n",
    "    print(output)"
   ]
  },
  {
   "cell_type": "markdown",
   "metadata": {},
   "source": [
    "Then we create the inference model:"
   ]
  },
  {
   "cell_type": "code",
   "execution_count": 36,
   "metadata": {},
   "outputs": [],
   "source": [
    "import rnn_model \n",
    "\n",
    "checkpoint_number = 295\n",
    "\n",
    "# load from check-point\n",
    "_, arg_params, __ = mx.model.load_checkpoint(checkpoint_path, checkpoint_number)\n",
    "\n",
    "# build an inference model\n",
    "model = rnn_model.LSTMInferenceModel(\n",
    "    num_lstm_layer,\n",
    "    len(vocab) + 1,\n",
    "    num_hidden=num_hidden,\n",
    "    num_embed=num_embed,\n",
    "    num_label=len(vocab) + 1, \n",
    "    arg_params=arg_params, \n",
    "    ctx=mx.gpu(), \n",
    "    dropout=0.2)"
   ]
  },
  {
   "cell_type": "markdown",
   "metadata": {},
   "source": [
    "Now we can generate a sequence of 600 characters starting with start word you set below"
   ]
  },
  {
   "cell_type": "code",
   "execution_count": 37,
   "metadata": {},
   "outputs": [],
   "source": [
    "output_list = ['黄蓉', '郭靖', '同时','柯震恶','江南七怪','朱聪伸手','《九阴真经》','《九阴','全真教','丘处机',\\\n",
    "              '黄药师','打狗棍','完颜','铜尸','铁尸','梅超风使出']\n"
   ]
  },
  {
   "cell_type": "code",
   "execution_count": 38,
   "metadata": {},
   "outputs": [
    {
     "name": "stdout",
     "output_type": "stream",
     "text": [
      "黄蓉--->\n",
      "黄蓉道：“你把杨大哥那柄匕首给穆姊姊罢。”郭靖道：“正是。”从怀中掏出那柄朱聪从旗杆上去。\n",
      "-----------------------\n",
      "郭靖--->\n",
      "郭靖道：“我只当她是妹子，是好朋友，可不要她做妻子。”丘处机喜道：“好孩子，有志气，有志气。管他甚么大汗不大汗，公主不公主。你还是一帮，不用从堂，大由了一拳，更是高人，便他胸膝之际，眼气无动，大厅间跃起竹杖，伸臂长击，肩头飞出。黄蓉笑道：“这一招可老叫化从未在世间，这其下可是听得了？”黄蓉道：“是啊，原来是道。”郭靖道：“兄弟既敢有妻子要了。”黄蓉道：“我去不迟路，只见她打着微阵，似乎微轻振慢慢来：“啊哟，这不好啦？”杨康奇道：“谁的谁？快是我们的模样？”穆念慈道：“我们打了七公来，立时，郭靖已惊觉危险，左手向后窜出，落在地下之上，连掌上拳，立时使劲，但是那毒龙手掌法”的急数。欧阳克听她明掌之际，心中大急，猛恨挡近，双臂飞弯，他双臂带了，幸红洞外，双手搂住他的肩头，只是未曾叩谢您老恩德。”说着跪了下去，砰砰砰的连磕了几个响头。洪七公脸色一变，喝道：“住长，我说甚么？”黄蓉道：“你双手，郭靖再行拜见的十余掌，心中忽然另能了武林中数分，才要这才手作招武功，他这时中他取法的玄风，郭靖登时抵御江南，这可不敢。”\n",
      "-----------------------\n",
      "同时--->\n",
      "同时听到六位师哥，一起桃花岛了，还归故谢。”黄蓉道：“美得不错。我老人家不肖干吗？”洪七公道：“你们已伤了多少人？”欧阳克道：“我也不能再活师父，咱俩前再亲亲，心中更有先领。”黄蓉道：“我们自己大哥，你们两人武功罢不成，兄弟就难道？”郭靖道：“兄弟跟你不多，兄弟子，好让他们能修习下盘的内功之后，得以回复行走。只是他素来要强好胜，虽然内心后悔，口上却不肯说，因此这套内功明明是全部新创，仍是用得无发，就惜他这般古怪古怪，心想已是不通的亢龙知使。”郭靖又是一生。黄蓉不喜，心道：“那也用了我的朋友。”洪七公道：“你不肯立誓也罢，我只摔你不能要嫁我，这时候我立时会不见’。”郭靖点点头，说道：“我再不知道，这时已是老毒物了。”周伯通笑道：“难他们师兄弟四人一齐震断了。完颜康抱了半遍，方把九般看来来过，却见他武功未高，他自己在练成二句一方，郭靖只听得说郭靖呼中有异，但此时收了他。”洪七公笑道：“你若是另的武功，既有甚么恩师之物，该能万学一条道以大传？”郭靖道：“那是我这般多处。兄弟，你们去搜走儿，你说得有甚么？”黄蓉道：“他是黄药师素你说？全真教主教你真真真经，就是拜了他的徒儿。”郭靖连然使笑，说道：“弟子不知，多时我是不成，难道今今真姓人说过。我……那正是安于百姓，也不是为了天地，才请两位小娃娃了，我就不是自己的瘟疫。”黄蓉道：“我们一定生恼，心想：“这人用慢大股，功夫该算到他\n",
      "-----------------------\n",
      "柯震恶--->\n",
      "柯震恶心下，不禁暗然：“这庄子说了甚么？”郭靖道：“他怎么说？”郭靖道：“我爹爹的武功是我们曾练，你不必教的掌法，就算不是不成，难道今今真姓人说过。我……那正是安于百姓，也不是为了天地，才请两位小娃娃了，我就不是自己的瘟疫。”黄蓉道：“我们一定生恼，心想：“这人用慢大股，功夫该算到他们传了。”郭靖笑道：“是埃原来爹爹是偷了？”黄蓉笑道：“我们也在这里。”郭靖听他们师兄弟四人一齐震断了。完颜康抱了半遍，方把九般看来来过，却见他武功未高，他自己在练成二句一方，郭靖只听得说郭靖呼中有异，但此时收了他。”洪七公笑道：“你若是另的武功，既有甚么恩师之物，该能万学一条道以大传？”郭靖道：“那是我这般多处。兄弟，你们去搜走儿，你说得有甚么？”黄蓉道：“他是黄药师素你说？全真教主教你真真真经，就是拜了他的徒儿。”郭靖连然使笑，说道：“弟子不知，多时我是不成，难道今今真姓人说过。我……那正是安于百姓，也不是为了天地，才请两位小娃娃了，我就不是自己的瘟疫。”黄蓉道：“我们一定生恼，心想：“这人用慢大股，功夫该算到他们传了。”郭靖笑道：“是埃原来爹爹是偷了？”黄蓉笑道：“我们也在这里。”郭靖听他们师兄弟四人一齐震断了。完颜康抱了半遍，方把九般看来来过，却见他武功未高，他自己在练成二句一方，郭靖只听得说郭靖呼中有异，但此时收了他。”洪七公笑道：“你若是另的武功，既有甚么恩师之物，该能万学一\n",
      "-----------------------\n",
      "江南七怪--->\n",
      "江南七怪与郭靖匆匆赶赶。江南六怪在后相助。郭靖与黄蓉心想：“这可是六怪人了？”郭靖笑道：“别儿可怕他们这般一个？”向他们师兄弟四人一齐震断了。完颜康抱了半遍，方把九般看来来过，却见他武功未高，他自己在练成二句一方，郭靖只听得说郭靖呼中有异，但此时收了他。”洪七公笑道：“你若是另的武功，既有甚么恩师之物，该能万学一条道以大传？”郭靖道：“那是我这般多处。兄弟，你们去搜走儿，你说得有甚么？”黄蓉道：“他是黄药师素你说？全真教主教你真真真经，就是拜了他的徒儿。”郭靖连然使笑，说道：“弟子不知，多时我是不成，难道今今真姓人说过。我……那正是安于百姓，也不是为了天地，才请两位小娃娃了，我就不是自己的瘟疫。”黄蓉道：“我们一定生恼，心想：“这人用慢大股，功夫该算到他们传了。”郭靖笑道：“是埃原来爹爹是偷了？”黄蓉笑道：“我们也在这里。”郭靖听他们师兄弟四人一齐震断了。完颜康抱了半遍，方把九般看来来过，却见他武功未高，他自己在练成二句一方，郭靖只听得说郭靖呼中有异，但此时收了他。”洪七公笑道：“你若是另的武功，既有甚么恩师之物，该能万学一条道以大传？”郭靖道：“那是我这般多处。兄弟，你们去搜走儿，你说得有甚么？”黄蓉道：“他是黄药师素你说？全真教主教你真真真经，就是拜了他的徒儿。”郭靖连然使笑，说道：“弟子不知，多时我是不成，难道今今真姓人说过。我……那正是安于百姓，也不是为了天\n",
      "-----------------------\n",
      "朱聪伸手--->\n",
      "朱聪伸手，忽听得喀的一声响，那是全真七子深深而地。韩伯通只怒了一下，说道：“我在临安府寻了。你东东西，有些事，今日是人。”两人回头向东邪、南帝、和老叫化的。丐帮和全真教都是人多势众，南帝是帝皇之尊，手下官兵侍卫更是不计其数。你爹爹学问广博，奇门遁甲，便也是最，恭恭敬敬的拜了四遍。当他跪拜之际，已在空上之下了他神天之深，待这一把全是中都是疼痛之模。欧阳克见她不解清要，眼见她身法破了黄药师的女子，怎么还能有人起？你一时武功与我说，不是怎样？”郭靖道：“弟子不敢。”周伯通道：“唉，到了你们老人家。”向那人哈了一阵，我说是甚么？”陆庄主道：“姑娘说了。”陆庄主道：“老弟姓裘，黄老邪道：‘有人有缘传的，兄弟该有点点。”裘千仞道：“你不肯立誓也罢，我只摔你不能要嫁我，这时候我立时会不见’。”郭靖点点头，说道：“我再不知道，这时已是老毒物了。”周伯通笑道：“难他们师兄弟四人一齐震断了。完颜康抱了半遍，方把九般看来来过，却见他武功未高，他自己在练成二句一方，郭靖只听得说郭靖呼中有异，但此时收了他。”洪七公笑道：“你若是另的武功，既有甚么恩师之物，该能万学一条道以大传？”郭靖道：“那是我这般多处。兄弟，你们去搜走儿，你说得有甚么？”黄蓉道：“他是黄药师素你说？全真教主教你真真真经，就是拜了他的徒儿。”郭靖连然使笑，说道：“弟子不知，多时我是不成，难道今今真姓人说过。我……那正是安于百\n",
      "-----------------------\n",
      "《九阴真经》--->\n",
      "《九阴真经》的上卷经文，要是他们的传了我的武功。我瞧我学得很娘，求我百倍，决不是练不过的，若是我不必做劳了，你是一生……”郭靖却不知好歹，尚在口出大言。”梅超风怒道：“呸！我要他们饶？六怪，你们武功大进了？那就来试试？”黄蓉道：“他们何必亲自己的弟子也不是。他们在嘉兴了，若是这些大家道理，也不必出言之见，可是这般一明鬼的女子，她老叫化怎么再没没见？他说了，他不是经书中我，只是未曾叩谢您老恩德。”说着跪了下去，砰砰砰的连磕了几个响头。洪七公脸色一变，喝道：“住长，我说甚么？”黄蓉道：“你双手，郭靖再行拜见的十余掌，心中忽然另能了武林中数分，才要这才手作招武功，他这时中他取法的玄风，郭靖登时抵御江南，这可不敢。”\n",
      "-----------------------\n",
      "《九阴--->\n",
      "《九阴真经》的上卷经文，要是他们的传了我的武功。我瞧我学得很娘，求我百倍，决不是练不过的，若是我不必做劳了，你是一生……”郭靖却不知好歹，尚在口出大言。”梅超风怒道：“呸！我要他们饶？六怪，你们武功大进了？那就来试试？”黄蓉道：“他们何必亲自己的弟子也不是。他们在嘉兴了，若是这些大家道理，也不必出言之见，可是这般一明鬼的女子，她老叫化怎么再没没见？他说了，他不是经书中我，只是未曾叩谢您老恩德。”说着跪了下去，砰砰砰的连磕了几个响头。洪七公脸色一变，喝道：“住长，我说甚么？”黄蓉道：“你双手，郭靖再行拜见的十余掌，心中忽然另能了武林中数分，才要这才手作招武功，他这时中他取法的玄风，郭靖登时抵御江南，这可不敢。”\n",
      "-----------------------\n",
      "全真教--->\n",
      "全真教主人，就能另一般武功，也是一场无功，终究不敢再说。”丘处机道：“哦，没也说不了？”黄蓉道：“咱们在这里遇过黄蓉，却马马钰走在一丛玫瑰之后。那人四下张望，然后蹑足向东走去，瞧这般全神提防的模样，似是闯进庄来的外家。郭靖向陆庄主道：“请柯大庄，请你七公公年纪，又有甚么家国之悲？至于词中深意，更是难以体会，只不过从前听父亲说过，这时便搬述出来，言语中见解精到，颇具雅量高致，那渔人不能再活师父，咱俩前再亲亲，心中更有先领。”黄蓉道：“我们自己大哥，你们两人武功罢不成，兄弟就难道？”郭靖道：“兄弟跟你不多，兄弟子，好让他们能修习下盘的内功之后，得以回复行走。只是他素来要强好胜，虽然内心后悔，口上却不肯说，因此这套内功明明是全部新创，仍是用得无发，就惜他这般古怪古怪，心想已是不通的亢龙知使。”郭靖又是一生。黄蓉不喜，心道：“那也用了我的朋友。”洪七公道：“你不肯立誓也罢，我只摔你不能要嫁我，这时候我立时会不见’。”郭靖点点头，说道：“我再不知道，这时已是老毒物了。”周伯通笑道：“难他们师兄弟四人一齐震断了。完颜康抱了半遍，方把九般看来来过，却见他武功未高，他自己在练成二句一方，郭靖只听得说郭靖呼中有异，但此时收了他。”洪七公笑道：“你若是另的武功，既有甚么恩师之物，该能万学一条道以大传？”郭靖道：“那是我这般多处。兄弟，你们去搜走儿，你说得有甚么？”黄蓉道：“他是黄药师素\n",
      "-----------------------\n",
      "丘处机--->\n",
      "丘处机素知大师兄最有涵养，十余年来未见他与人动手，这时一出手就是只能另有最厉的要秘了。\n",
      "-----------------------\n",
      "黄药师--->\n",
      "黄药师这大魔头，张阿生自也不会儿劳了。郭靖尊生为节，后华渐妙，于在假注之逢，渐然给深深深水水下了。她寻文武功，黄药师时道：“我们师兄弟四人一齐震断脚筋，逐出桃花岛，我只盼师父终肯回心转意，怜我受你们两个牵累，重行收归师门。”梅超风道：“令尊退了一个青子，还是不成，难道今今真姓人说过。我……那正是安于百姓，也不是为了天地，才请两位小娃娃了，我就不是自己的瘟疫。”黄蓉道：“我们一定生恼，心想：“这人用慢大股，功夫该算到他们传了。”郭靖笑道：“是埃原来爹爹是偷了？”黄蓉笑道：“我们也在这里。”郭靖听他们师兄弟四人一齐震断了。完颜康抱了半遍，方把九般看来来过，却见他武功未高，他自己在练成二句一方，郭靖只听得说郭靖呼中有异，但此时收了他。”洪七公笑道：“你若是另的武功，既有甚么恩师之物，该能万学一条道以大传？”郭靖道：“那是我这般多处。兄弟，你们去搜走儿，你说得有甚么？”黄蓉道：“他是黄药师素你说？全真教主教你真真真经，就是拜了他的徒儿。”郭靖连然使笑，说道：“弟子不知，多时我是不成，难道今今真姓人说过。我……那正是安于百姓，也不是为了天地，才请两位小娃娃了，我就不是自己的瘟疫。”黄蓉道：“我们一定生恼，心想：“这人用慢大股，功夫该算到他们传了。”郭靖笑道：“是埃原来爹爹是偷了？”黄蓉笑道：“我们也在这里。”郭靖听他们师兄弟四人一齐震断了。完颜康抱了半遍，方把九般看来来过，却\n",
      "-----------------------\n",
      "打狗棍--->\n",
      "打狗棍，真是后了，真不是。”裘千仞道：“我是年人也不知道，也不知你有人恶难，你老人家出来这许多事，给他们了他。”郭靖喜道：“你不肯立誓也罢，我只摔你不能要嫁我，这时候我立时会不见’。”郭靖点点头，说道：“我再不知道，这时已是老毒物了。”周伯通笑道：“难他们师兄弟四人一齐震断了。完颜康抱了半遍，方把九般看来来过，却见他武功未高，他自己在练成二句一方，郭靖只听得说郭靖呼中有异，但此时收了他。”洪七公笑道：“你若是另的武功，既有甚么恩师之物，该能万学一条道以大传？”郭靖道：“那是我这般多处。兄弟，你们去搜走儿，你说得有甚么？”黄蓉道：“他是黄药师素你说？全真教主教你真真真经，就是拜了他的徒儿。”郭靖连然使笑，说道：“弟子不知，多时我是不成，难道今今真姓人说过。我……那正是安于百姓，也不是为了天地，才请两位小娃娃了，我就不是自己的瘟疫。”黄蓉道：“我们一定生恼，心想：“这人用慢大股，功夫该算到他们传了。”郭靖笑道：“是埃原来爹爹是偷了？”黄蓉笑道：“我们也在这里。”郭靖听他们师兄弟四人一齐震断了。完颜康抱了半遍，方把九般看来来过，却见他武功未高，他自己在练成二句一方，郭靖只听得说郭靖呼中有异，但此时收了他。”洪七公笑道：“你若是另的武功，既有甚么恩师之物，该能万学一条道以大传？”郭靖道：“那是我这般多处。兄弟，你们去搜走儿，你说得有甚么？”黄蓉道：“他是黄药师素你说？全真教\n",
      "-----------------------\n",
      "完颜--->\n",
      "完颜康所说的一堆厮白。黄蓉道：“那柄南丁身煞五人道。我到上里也不着给你磕头。”郭靖听了他，他背面仍是诧异，忽听得道：“你爹爹有听过来，你瞧这是名门之中，也惜人不得了，敌人一点不断你在她。”\n",
      "-----------------------\n",
      "铜尸--->\n",
      "铜尸，只听得喀的一声，跃过脚来，一条小肮轻轻一般，在他一面之中，身子闪出尺鞭，已如是东西。她花发手攻，周伯通缩手连通，左手往她想到这里，而且儿谁竟是这一神是。”郭靖点了点头，缓缓走了几个头头。那人笑道：“梅超风不知这位老朋友，是是仇多年的是河于们可不知道的。”黄蓉道：“他是江南六侠的嫡传弟子。六侠已相知江南豪怪，年弟的北英雄全真七子传一下，又要给我们师兄几姓时终八八八掌，黄蓉固然被着他手里，手却一个女子也也不禁暗。半口中乘动手去。郭靖却道：“师父必是蓉儿，蓉儿哥，你可给我推打。”黄蓉道：“我们师兄弟四人一齐震断脚筋，逐出桃花岛，我只盼师父终肯回心转意，怜我受你们两个牵累，重行收归师门。”梅超风道：“令尊退了一个青子，还是不成，难道今今真姓人说过。我……那正是安于百姓，也不是为了天地，才请两位小娃娃了，我就不是自己的瘟疫。”黄蓉道：“我们一定生恼，心想：“这人用慢大股，功夫该算到他们传了。”郭靖笑道：“是埃原来爹爹是偷了？”黄蓉笑道：“我们也在这里。”郭靖听他们师兄弟四人一齐震断了。完颜康抱了半遍，方把九般看来来过，却见他武功未高，他自己在练成二句一方，郭靖只听得说郭靖呼中有异，但此时收了他。”洪七公笑道：“你若是另的武功，既有甚么恩师之物，该能万学一条道以大传？”郭靖道：“那是我这般多处。兄弟，你们去搜走儿，你说得有甚么？”黄蓉道：“他是黄药师素你说？全真教主教你真\n",
      "-----------------------\n",
      "铁尸--->\n",
      "铁尸上去一人，摸到地里，却已摔住他。\n",
      "-----------------------\n",
      "梅超风使出--->\n",
      "梅超风使出，自己才能另命命救救。郭靖道：“咱们先去救程道是。”黄蓉道：“好，这只是找他找过的爹们大个死量了。”郭靖笑道：“别，哈哈大笑，向陆冠英道：“阁下便是太湖群雄之首的陆少庄主了？”陆冠英躬身道：“不敢，请我师父。”郭靖道：“你拿得马马，马钰挥点回头，说道：“禀谢为丹，原来你是君子迎上了。”完颜康悄缓笑道：“我不瞧这两位太姓大名，你可是你传了一阵，他还何功夫本来，只是未曾叩谢您老恩德。”说着跪了下去，砰砰砰的连磕了几个响头。洪七公脸色一变，喝道：“住长，我说甚么？”黄蓉道：“你双手，郭靖再行拜见的十余掌，心中忽然另能了武林中数分，才要这才手作招武功，他这时中他取法的玄风，郭靖登时抵御江南，这可不敢。”\n",
      "-----------------------\n"
     ]
    }
   ],
   "source": [
    "for start_word in output_list:\n",
    "    print(start_word + '--->')\n",
    "    generate(start_word)\n",
    "    print('-----------------------')"
   ]
  },
  {
   "cell_type": "code",
   "execution_count": null,
   "metadata": {},
   "outputs": [],
   "source": []
  }
 ],
 "metadata": {
  "kernelspec": {
   "display_name": "conda_mxnet_p27",
   "language": "python",
   "name": "conda_mxnet_p27"
  },
  "language_info": {
   "codemirror_mode": {
    "name": "ipython",
    "version": 2
   },
   "file_extension": ".py",
   "mimetype": "text/x-python",
   "name": "python",
   "nbconvert_exporter": "python",
   "pygments_lexer": "ipython2",
   "version": "2.7.15"
  }
 },
 "nbformat": 4,
 "nbformat_minor": 1
}
