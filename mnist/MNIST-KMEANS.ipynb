{
 "cells": [
  {
   "cell_type": "markdown",
   "metadata": {},
   "source": [
    "# 使用K-means聚类算法对 MNIST 手写数字进行分类预测"
   ]
  },
  {
   "cell_type": "markdown",
   "metadata": {},
   "source": [
    "手写、单位数编号的MNIST数据集 — 此数据集提供 60,000 个手写、单位数编号的映像示例以及包含 10,000 个映像的测试数据集。\n",
    "\n",
    "使用 Amazon SageMaker 提供的 k-means 算法。K-means 是一种集群算法。在模型训练期间，该算法将手写编号的示例数据分为 10 个集群 (从 0 到 9，每个编号各一个集群)。有关该算法的更多信息，请参阅K-Means 算法。\n",
    "\n",
    "在本练习中，将执行以下操作：\n",
    "1 将 MNIST 数据集下载到您的 Amazon SageMaker 笔记本实例，然后查看数据并进行预处理。\n",
    "2 启动一个 Amazon SageMaker 训练任务。\n",
    "3 在 Amazon SageMaker 中部署模型。\n",
    "4 通过将推理请求发送至模型的终端节点来验证模型。请发送手写单位数编号的映像。模型将返回映像所属的集群的编号 (0 到 9)。\n",
    "\n",
    "对于模型训练、部署和验证，使用以下选项：\n",
    "Amazon SageMaker 提供的高级 Python 库，该高级库提取了多个实施的详细信息，并且易于使用。此练习提供了分别使用这两种库的代码示例。如果您是 Amazon SageMaker 的新用户，建议使用高级 Python 库。有关更多信息，请参阅 Amazon SageMaker 编程模型 。"
   ]
  },
  {
   "cell_type": "code",
   "execution_count": 1,
   "metadata": {
    "scrolled": true
   },
   "outputs": [],
   "source": [
    "# 获取Sagemker的执行角色，并定义用于训练的S3存储桶名称\n",
    "from sagemaker import get_execution_role\n",
    "\n",
    "role = get_execution_role()\n",
    "bucket='your_bucket'"
   ]
  },
  {
   "cell_type": "markdown",
   "metadata": {},
   "source": [
    "下载mnist的数据集合到notebook实例本地，分别导入训练集、验证集、测试集"
   ]
  },
  {
   "cell_type": "code",
   "execution_count": 2,
   "metadata": {},
   "outputs": [
    {
     "name": "stdout",
     "output_type": "stream",
     "text": [
      "CPU times: user 860 ms, sys: 312 ms, total: 1.17 s\n",
      "Wall time: 4.06 s\n"
     ]
    }
   ],
   "source": [
    "%%time\n",
    "import pickle, gzip, numpy, urllib.request, json\n",
    "\n",
    "# Download the mnist dataset\n",
    "urllib.request.urlretrieve(\"http://deeplearning.net/data/mnist/mnist.pkl.gz\", \"mnist.pkl.gz\")\n",
    "with gzip.open('mnist.pkl.gz', 'rb') as f:\n",
    "    train_set, valid_set, test_set = pickle.load(f, encoding='latin1')"
   ]
  },
  {
   "cell_type": "markdown",
   "metadata": {},
   "source": [
    "定义一个绘画函数show_digit，用来将mnist中的数字画出来，在这里将训练集中第30张图片画出来"
   ]
  },
  {
   "cell_type": "code",
   "execution_count": 3,
   "metadata": {},
   "outputs": [
    {
     "data": {
      "image/png": "[encoded data removed]",
      "text/plain": [
       "<Figure size 144x720 with 1 Axes>"
      ]
     },
     "metadata": {},
     "output_type": "display_data"
    }
   ],
   "source": [
    "%matplotlib inline\n",
    "import matplotlib.pyplot as plt\n",
    "plt.rcParams[\"figure.figsize\"] = (2,10)\n",
    "\n",
    "\n",
    "def show_digit(img, caption='', subplot=None):\n",
    "    if subplot==None:\n",
    "        _,(subplot)=plt.subplots(1,1)\n",
    "    imgr=img.reshape((28,28))\n",
    "    subplot.axis('off')\n",
    "    subplot.imshow(imgr, cmap='gray')\n",
    "    plt.title(caption)\n",
    "\n",
    "show_digit(train_set[0][30], 'This is a {}'.format(train_set[1][30]))"
   ]
  },
  {
   "cell_type": "markdown",
   "metadata": {},
   "source": [
    "将mnist数据集从 numpy.array 格式转换为 RecordIO protobuf 格式，并上传到指定的S3存储桶中，对于 Amazon SageMaker 提供的所有算法，RecordIO protobuf 格式更有效。"
   ]
  },
  {
   "cell_type": "code",
   "execution_count": 4,
   "metadata": {
    "scrolled": false
   },
   "outputs": [
    {
     "name": "stdout",
     "output_type": "stream",
     "text": [
      "training data will be uploaded to: s3://421710401846-sagemaker-us-west-2/kmeans_lowlevel_example/data\n",
      "CPU times: user 9.15 s, sys: 396 ms, total: 9.55 s\n",
      "Wall time: 10.6 s\n"
     ]
    }
   ],
   "source": [
    "%%time\n",
    "from sagemaker.amazon.common import write_numpy_to_dense_tensor\n",
    "import io\n",
    "import boto3\n",
    "\n",
    "data_key = 'kmeans_lowlevel_example/data'\n",
    "data_location = 's3://{}/{}'.format(bucket, data_key)\n",
    "print('training data will be uploaded to: {}'.format(data_location))\n",
    "\n",
    "# Convert the training data into the format required by the SageMaker KMeans algorithm\n",
    "buf = io.BytesIO()\n",
    "write_numpy_to_dense_tensor(buf, train_set[0], train_set[1])\n",
    "buf.seek(0)\n",
    "\n",
    "boto3.resource('s3').Bucket(bucket).Object(data_key).upload_fileobj(buf)"
   ]
  },
  {
   "cell_type": "markdown",
   "metadata": {},
   "source": [
    "为了训练模型，Amazon SageMaker 需要提供以下信息：\n",
    "\n",
    "训练算法 — 指定包含训练代码的 Docker 镜像的注册表路径。在以下示例中，当使用高级 Python 库，无需明确指定此路径。sagemaker.amazon.kmeans.KMeans 对象知道该路径。\n",
    "\n",
    "K-Means算法的超级参数 — 指定K-Means算法的超级参数以影响模型的最终质量。k=10，代表把mnist分成10类，0～9。\n",
    "\n",
    "输入和输出配置 — 提供用于存储训练数据且 Amazon SageMaker 用于保存模型训练结果 (模型项目) 的 S3 存储桶。"
   ]
  },
  {
   "cell_type": "code",
   "execution_count": 20,
   "metadata": {
    "scrolled": true
   },
   "outputs": [
    {
     "name": "stdout",
     "output_type": "stream",
     "text": [
      "training data will be uploaded to: s3://421710401846-sagemaker-us-west-2/kmeans_highlevel_example/data\n",
      "training artifacts will be uploaded to: s3://421710401846-sagemaker-us-west-2/kmeans_example/output\n"
     ]
    }
   ],
   "source": [
    "from sagemaker import KMeans\n",
    "\n",
    "data_location = 's3://{}/kmeans_highlevel_example/data'.format(bucket)\n",
    "output_location = 's3://{}/kmeans_example/output'.format(bucket)\n",
    "\n",
    "print('training data will be uploaded to: {}'.format(data_location))\n",
    "print('training artifacts will be uploaded to: {}'.format(output_location))\n",
    "\n",
    "kmeans = KMeans(role=role,\n",
    "                train_instance_count=1,\n",
    "                train_instance_type='ml.p3.2xlarge',\n",
    "                output_path=output_location,\n",
    "                k=10,\n",
    "                data_location=data_location)"
   ]
  },
  {
   "cell_type": "markdown",
   "metadata": {},
   "source": [
    "调用 fit 方法启动模型训练。"
   ]
  },
  {
   "cell_type": "code",
   "execution_count": 21,
   "metadata": {
    "scrolled": false
   },
   "outputs": [
    {
     "name": "stderr",
     "output_type": "stream",
     "text": [
      "INFO:sagemaker:Creating training-job with name: kmeans-2018-09-04-06-18-08-474\n"
     ]
    },
    {
     "name": "stdout",
     "output_type": "stream",
     "text": [
      "...................\n",
      "\u001b[31mDocker entrypoint called with argument(s): train\u001b[0m\n",
      "\u001b[31m[09/04/2018 06:21:02 INFO 139753314162496] Reading default configuration from /opt/amazon/lib/python2.7/site-packages/algorithm/resources/default-input.json: {u'_tuning_objective_metric': u'', u'_num_gpus': u'auto', u'local_lloyd_num_trials': u'auto', u'_log_level': u'info', u'_kvstore': u'auto', u'local_lloyd_init_method': u'kmeans++', u'force_dense': u'true', u'epochs': u'1', u'init_method': u'random', u'local_lloyd_tol': u'0.0001', u'local_lloyd_max_iter': u'300', u'_disable_wait_to_read': u'false', u'extra_center_factor': u'auto', u'eval_metrics': u'[\"msd\"]', u'_num_kv_servers': u'1', u'mini_batch_size': u'5000', u'half_life_time_size': u'0', u'_num_slices': u'1'}\u001b[0m\n",
      "\u001b[31m[09/04/2018 06:21:02 INFO 139753314162496] Reading provided configuration from /opt/ml/input/config/hyperparameters.json: {u'feature_dim': u'784', u'k': u'10', u'force_dense': u'True'}\u001b[0m\n",
      "\u001b[31m[09/04/2018 06:21:02 INFO 139753314162496] Final configuration: {u'k': u'10', u'_tuning_objective_metric': u'', u'_num_gpus': u'auto', u'local_lloyd_num_trials': u'auto', u'_log_level': u'info', u'_kvstore': u'auto', u'local_lloyd_init_method': u'kmeans++', u'force_dense': u'True', u'epochs': u'1', u'init_method': u'random', u'feature_dim': u'784', u'local_lloyd_tol': u'0.0001', u'local_lloyd_max_iter': u'300', u'_disable_wait_to_read': u'false', u'extra_center_factor': u'auto', u'eval_metrics': u'[\"msd\"]', u'_num_kv_servers': u'1', u'mini_batch_size': u'5000', u'half_life_time_size': u'0', u'_num_slices': u'1'}\u001b[0m\n",
      "\u001b[31m[09/04/2018 06:21:02 WARNING 139753314162496] Loggers have already been setup.\u001b[0m\n",
      "\u001b[31m[09/04/2018 06:21:02 INFO 139753314162496] Using default worker.\u001b[0m\n",
      "\u001b[31m[09/04/2018 06:21:02 INFO 139753314162496] Loaded iterator creator application/x-recordio-protobuf for content type ('application/x-recordio-protobuf', '1.0')\u001b[0m\n",
      "\u001b[31m[09/04/2018 06:21:02 INFO 139753314162496] Create Store: local\u001b[0m\n",
      "\u001b[31m[09/04/2018 06:21:02 INFO 139753314162496] nvidia-smi took: 0.0252449512482 secs to identify 1 gpus\u001b[0m\n",
      "\u001b[31m[09/04/2018 06:21:02 INFO 139753314162496] Number of GPUs being used: 1\u001b[0m\n",
      "\u001b[31m[09/04/2018 06:21:02 INFO 139753314162496] Setting up with params: {u'k': u'10', u'_tuning_objective_metric': u'', u'_num_gpus': u'auto', u'local_lloyd_num_trials': u'auto', u'_log_level': u'info', u'_kvstore': u'auto', u'local_lloyd_init_method': u'kmeans++', u'force_dense': u'True', u'epochs': u'1', u'init_method': u'random', u'feature_dim': u'784', u'local_lloyd_tol': u'0.0001', u'local_lloyd_max_iter': u'300', u'_disable_wait_to_read': u'false', u'extra_center_factor': u'auto', u'eval_metrics': u'[\"msd\"]', u'_num_kv_servers': u'1', u'mini_batch_size': u'5000', u'half_life_time_size': u'0', u'_num_slices': u'1'}\u001b[0m\n",
      "\u001b[31m/opt/amazon/lib/python2.7/site-packages/ai_algorithms_sdk/config/config_helper.py:172: DeprecationWarning: deprecated\n",
      "  warnings.warn(\"deprecated\", DeprecationWarning)\u001b[0m\n",
      "\u001b[31m/opt/amazon/lib/python2.7/site-packages/ai_algorithms_sdk/config/config_helper.py:122: DeprecationWarning: deprecated\n",
      "  warnings.warn(\"deprecated\", DeprecationWarning)\u001b[0m\n",
      "\u001b[31m[09/04/2018 06:21:02 INFO 139753314162496] Number of GPUs being used: 1\u001b[0m\n",
      "\u001b[31m[09/04/2018 06:21:02 INFO 139753314162496] number of center slices 1\u001b[0m\n",
      "\u001b[31m#metrics {\"Metrics\": {\"Max Batches Seen Between Resets\": {\"count\": 1, \"max\": 1, \"sum\": 1.0, \"min\": 1}, \"Number of Batches Since Last Reset\": {\"count\": 1, \"max\": 1, \"sum\": 1.0, \"min\": 1}, \"Number of Records Since Last Reset\": {\"count\": 1, \"max\": 5000, \"sum\": 5000.0, \"min\": 5000}, \"Total Batches Seen\": {\"count\": 1, \"max\": 1, \"sum\": 1.0, \"min\": 1}, \"Total Records Seen\": {\"count\": 1, \"max\": 5000, \"sum\": 5000.0, \"min\": 5000}, \"Max Records Seen Between Resets\": {\"count\": 1, \"max\": 5000, \"sum\": 5000.0, \"min\": 5000}, \"Reset Count\": {\"count\": 1, \"max\": 0, \"sum\": 0.0, \"min\": 0}}, \"EndTime\": 1536042072.654999, \"Dimensions\": {\"Host\": \"algo-1\", \"Meta\": \"init_train_data_iter\", \"Operation\": \"training\", \"Algorithm\": \"AWS/KMeansWebscale\"}, \"StartTime\": 1536042072.654965}\n",
      "\u001b[0m\n",
      "\u001b[31m[09/04/2018 06:21:12 INFO 139753314162496] processed a total of 50000 examples\u001b[0m\n",
      "\u001b[31m[09/04/2018 06:21:12 INFO 139753314162496] #progress_metric: host=algo-1, completed 100 % of epochs\u001b[0m\n",
      "\u001b[31m#metrics {\"Metrics\": {\"Max Batches Seen Between Resets\": {\"count\": 1, \"max\": 10, \"sum\": 10.0, \"min\": 10}, \"Number of Batches Since Last Reset\": {\"count\": 1, \"max\": 10, \"sum\": 10.0, \"min\": 10}, \"Number of Records Since Last Reset\": {\"count\": 1, \"max\": 50000, \"sum\": 50000.0, \"min\": 50000}, \"Total Batches Seen\": {\"count\": 1, \"max\": 11, \"sum\": 11.0, \"min\": 11}, \"Total Records Seen\": {\"count\": 1, \"max\": 55000, \"sum\": 55000.0, \"min\": 55000}, \"Max Records Seen Between Resets\": {\"count\": 1, \"max\": 50000, \"sum\": 50000.0, \"min\": 50000}, \"Reset Count\": {\"count\": 1, \"max\": 1, \"sum\": 1.0, \"min\": 1}}, \"EndTime\": 1536042072.971842, \"Dimensions\": {\"Host\": \"algo-1\", \"Meta\": \"training_data_iter\", \"Operation\": \"training\", \"Algorithm\": \"AWS/KMeansWebscale\", \"epoch\": 0}, \"StartTime\": 1536042072.655298}\n",
      "\u001b[0m\n",
      "\u001b[31m[09/04/2018 06:21:12 INFO 139753314162496] #throughput_metric: host=algo-1, train throughput=157903.09052 records/second\u001b[0m\n",
      "\u001b[31m[09/04/2018 06:21:12 WARNING 139753314162496] wait_for_all_workers will not sync workers since the kv store is not running distributed\u001b[0m\n",
      "\u001b[31m[09/04/2018 06:21:12 INFO 139753314162496] shrinking 100 centers into 10\u001b[0m\n",
      "\u001b[31m[09/04/2018 06:21:13 INFO 139753314162496] local kmeans attempt #0. Current mean square distance 11.467727\u001b[0m\n",
      "\u001b[31m[09/04/2018 06:21:13 INFO 139753314162496] local kmeans attempt #1. Current mean square distance 11.980815\u001b[0m\n",
      "\u001b[31m[09/04/2018 06:21:13 INFO 139753314162496] local kmeans attempt #2. Current mean square distance 12.545908\u001b[0m\n",
      "\u001b[31m[09/04/2018 06:21:13 INFO 139753314162496] local kmeans attempt #3. Current mean square distance 11.819287\u001b[0m\n",
      "\u001b[31m[09/04/2018 06:21:13 INFO 139753314162496] local kmeans attempt #4. Current mean square distance 11.324983\u001b[0m\n",
      "\u001b[31m[09/04/2018 06:21:13 INFO 139753314162496] local kmeans attempt #5. Current mean square distance 11.266487\u001b[0m\n",
      "\u001b[31m[09/04/2018 06:21:13 INFO 139753314162496] local kmeans attempt #6. Current mean square distance 11.990590\u001b[0m\n",
      "\u001b[31m[09/04/2018 06:21:13 INFO 139753314162496] local kmeans attempt #7. Current mean square distance 10.918903\u001b[0m\n",
      "\u001b[31m[09/04/2018 06:21:13 INFO 139753314162496] local kmeans attempt #8. Current mean square distance 11.375474\u001b[0m\n",
      "\u001b[31m[09/04/2018 06:21:13 INFO 139753314162496] local kmeans attempt #9. Current mean square distance 11.512935\u001b[0m\n",
      "\u001b[31m[09/04/2018 06:21:13 INFO 139753314162496] finished shrinking process. Mean Square Distance = 11\u001b[0m\n",
      "\u001b[31m[09/04/2018 06:21:13 INFO 139753314162496] #quality_metric: host=algo-1, train msd <loss>=10.9189033508\u001b[0m\n",
      "\u001b[31m[09/04/2018 06:21:13 INFO 139753314162496] batch data loading with context took: 84.4489%, (0.267559 secs)\u001b[0m\n",
      "\u001b[31m[09/04/2018 06:21:13 INFO 139753314162496] compute all data-center distances: point norm took: 3.8123%, (0.012079 secs)\u001b[0m\n",
      "\u001b[31m[09/04/2018 06:21:13 INFO 139753314162496] gradient: cluster center took: 2.5117%, (0.007958 secs)\u001b[0m\n",
      "\u001b[31m[09/04/2018 06:21:13 INFO 139753314162496] collect from kv store took: 1.6647%, (0.005274 secs)\u001b[0m\n",
      "\u001b[31m[09/04/2018 06:21:13 INFO 139753314162496] predict compute msd took: 1.4323%, (0.004538 secs)\u001b[0m\n",
      "\u001b[31m[09/04/2018 06:21:13 INFO 139753314162496] update state and report convergance took: 1.3851%, (0.004388 secs)\u001b[0m\n",
      "\u001b[31m[09/04/2018 06:21:13 INFO 139753314162496] compute all data-center distances: inner product took: 1.3048%, (0.004134 secs)\u001b[0m\n",
      "\u001b[31m[09/04/2018 06:21:13 INFO 139753314162496] splitting centers key-value pair took: 0.9563%, (0.003030 secs)\u001b[0m\n",
      "\u001b[31m[09/04/2018 06:21:13 INFO 139753314162496] gradient: one_hot took: 0.7514%, (0.002381 secs)\u001b[0m\n",
      "\u001b[31m[09/04/2018 06:21:13 INFO 139753314162496] compute all data-center distances: center norm took: 0.6988%, (0.002214 secs)\u001b[0m\n",
      "\u001b[31m[09/04/2018 06:21:13 INFO 139753314162496] update set-up time took: 0.5454%, (0.001728 secs)\u001b[0m\n",
      "\u001b[31m[09/04/2018 06:21:13 INFO 139753314162496] gradient: cluster size  took: 0.4277%, (0.001355 secs)\u001b[0m\n",
      "\u001b[31m[09/04/2018 06:21:13 INFO 139753314162496] predict minus dist took: 0.0606%, (0.000192 secs)\u001b[0m\n",
      "\u001b[31m[09/04/2018 06:21:13 INFO 139753314162496] TOTAL took: 0.316829204559\u001b[0m\n",
      "\u001b[31m[09/04/2018 06:21:13 INFO 139753314162496] Number of GPUs being used: 1\u001b[0m\n",
      "\u001b[31m#metrics {\"Metrics\": {\"finalize.time\": {\"count\": 1, \"max\": 356.1999797821045, \"sum\": 356.1999797821045, \"min\": 356.1999797821045}, \"initialize.time\": {\"count\": 1, \"max\": 9783.834218978882, \"sum\": 9783.834218978882, \"min\": 9783.834218978882}, \"model.serialize.time\": {\"count\": 1, \"max\": 0.29587745666503906, \"sum\": 0.29587745666503906, \"min\": 0.29587745666503906}, \"update.time\": {\"count\": 1, \"max\": 316.36595726013184, \"sum\": 316.36595726013184, \"min\": 316.36595726013184}, \"epochs\": {\"count\": 1, \"max\": 1, \"sum\": 1.0, \"min\": 1}, \"state.serialize.time\": {\"count\": 1, \"max\": 0.7669925689697266, \"sum\": 0.7669925689697266, \"min\": 0.7669925689697266}, \"_shrink.time\": {\"count\": 1, \"max\": 354.0761470794678, \"sum\": 354.0761470794678, \"min\": 354.0761470794678}}, \"EndTime\": 1536042073.329541, \"Dimensions\": {\"Host\": \"algo-1\", \"Operation\": \"training\", \"Algorithm\": \"AWS/KMeansWebscale\"}, \"StartTime\": 1536042062.822564}\n",
      "\u001b[0m\n",
      "\u001b[31m[09/04/2018 06:21:13 INFO 139753314162496] Test data is not provided.\u001b[0m\n",
      "\u001b[31m#metrics {\"Metrics\": {\"totaltime\": {\"count\": 1, \"max\": 10574.019193649292, \"sum\": 10574.019193649292, \"min\": 10574.019193649292}, \"setuptime\": {\"count\": 1, \"max\": 14.472007751464844, \"sum\": 14.472007751464844, \"min\": 14.472007751464844}}, \"EndTime\": 1536042073.332013, \"Dimensions\": {\"Host\": \"algo-1\", \"Operation\": \"training\", \"Algorithm\": \"AWS/KMeansWebscale\"}, \"StartTime\": 1536042073.329629}\n",
      "\u001b[0m\n"
     ]
    },
    {
     "name": "stdout",
     "output_type": "stream",
     "text": [
      "\n",
      "Billable seconds: 109\n",
      "CPU times: user 7.97 s, sys: 412 ms, total: 8.38 s\n",
      "Wall time: 3min 51s\n"
     ]
    }
   ],
   "source": [
    "%%time\n",
    "\n",
    "kmeans.fit(kmeans.record_set(train_set[0]))"
   ]
  },
  {
   "cell_type": "markdown",
   "metadata": {},
   "source": [
    "调用 deploy 方法部署模型。"
   ]
  },
  {
   "cell_type": "code",
   "execution_count": 15,
   "metadata": {
    "scrolled": true
   },
   "outputs": [
    {
     "name": "stderr",
     "output_type": "stream",
     "text": [
      "INFO:sagemaker:Creating model with name: kmeans-2018-09-04-06-05-39-649\n",
      "INFO:sagemaker:Creating endpoint with name kmeans-2018-09-04-05-56-10-348\n"
     ]
    },
    {
     "name": "stdout",
     "output_type": "stream",
     "text": [
      "--------------------------------------------------------------------------!CPU times: user 332 ms, sys: 12 ms, total: 344 ms\n",
      "Wall time: 6min 14s\n"
     ]
    }
   ],
   "source": [
    "%%time\n",
    "\n",
    "kmeans_predictor = kmeans.deploy(initial_instance_count=1,\n",
    "                                 instance_type='ml.m4.xlarge')"
   ]
  },
  {
   "cell_type": "markdown",
   "metadata": {},
   "source": [
    "获取关于 valid_set 测试数据集中第 30 张手写编号图像的推理。响应表明输入映像属于集群X。它还显示了该集群的平均平方距离。\n",
    "#### 注意\n",
    "在 k-means 实施中，集群编号与其所代表的数字不一致。例如，该算法可能将手写编号 3 的图像分到集群 0 中，将编号 4 的图像分到集群 9 中。"
   ]
  },
  {
   "cell_type": "code",
   "execution_count": 16,
   "metadata": {},
   "outputs": [
    {
     "name": "stdout",
     "output_type": "stream",
     "text": [
      "[label {\n",
      "  key: \"closest_cluster\"\n",
      "  value {\n",
      "    float32_tensor {\n",
      "      values: 2.0\n",
      "    }\n",
      "  }\n",
      "}\n",
      "label {\n",
      "  key: \"distance_to_cluster\"\n",
      "  value {\n",
      "    float32_tensor {\n",
      "      values: 5.799480438232422\n",
      "    }\n",
      "  }\n",
      "}\n",
      "]\n"
     ]
    }
   ],
   "source": [
    "\n",
    "result = kmeans_predictor.predict(valid_set[0][30:31])\n",
    "print(result)"
   ]
  },
  {
   "cell_type": "markdown",
   "metadata": {},
   "source": [
    "获取 valid_set 验证集中前100 张图像的推理结果。"
   ]
  },
  {
   "cell_type": "code",
   "execution_count": 17,
   "metadata": {
    "scrolled": true
   },
   "outputs": [
    {
     "name": "stdout",
     "output_type": "stream",
     "text": [
      "CPU times: user 32 ms, sys: 0 ns, total: 32 ms\n",
      "Wall time: 211 ms\n"
     ]
    }
   ],
   "source": [
    "%%time \n",
    "\n",
    "result = kmeans_predictor.predict(valid_set[0][0:100])\n",
    "clusters = [r.label['closest_cluster'].float32_tensor.values[0] for r in result]"
   ]
  },
  {
   "cell_type": "markdown",
   "metadata": {},
   "source": [
    "将推理的结果划分相似图像的集群。以下视图显示了模型返回的10个集群："
   ]
  },
  {
   "cell_type": "code",
   "execution_count": 18,
   "metadata": {},
   "outputs": [
    {
     "name": "stdout",
     "output_type": "stream",
     "text": [
      "\n",
      "\n",
      "\n",
      "Cluster 0:\n"
     ]
    },
    {
     "data": {
      "image/png": "[encoded data removed]",
      "text/plain": [
       "<Figure size 360x72 with 5 Axes>"
      ]
     },
     "metadata": {},
     "output_type": "display_data"
    },
    {
     "name": "stdout",
     "output_type": "stream",
     "text": [
      "\n",
      "\n",
      "\n",
      "Cluster 1:\n"
     ]
    },
    {
     "data": {
      "image/png": "[encoded data removed]",
      "text/plain": [
       "<Figure size 360x216 with 15 Axes>"
      ]
     },
     "metadata": {},
     "output_type": "display_data"
    },
    {
     "name": "stdout",
     "output_type": "stream",
     "text": [
      "\n",
      "\n",
      "\n",
      "Cluster 2:\n"
     ]
    },
    {
     "data": {
      "image/png": "[encoded data removed]",
      "text/plain": [
       "<Figure size 360x216 with 15 Axes>"
      ]
     },
     "metadata": {},
     "output_type": "display_data"
    },
    {
     "name": "stdout",
     "output_type": "stream",
     "text": [
      "\n",
      "\n",
      "\n",
      "Cluster 3:\n"
     ]
    },
    {
     "data": {
      "image/png": "[encoded data removed]",
      "text/plain": [
       "<Figure size 360x216 with 15 Axes>"
      ]
     },
     "metadata": {},
     "output_type": "display_data"
    },
    {
     "name": "stdout",
     "output_type": "stream",
     "text": [
      "\n",
      "\n",
      "\n",
      "Cluster 4:\n"
     ]
    },
    {
     "data": {
      "image/png": "[encoded data removed]",
      "text/plain": [
       "<Figure size 360x144 with 10 Axes>"
      ]
     },
     "metadata": {},
     "output_type": "display_data"
    },
    {
     "name": "stdout",
     "output_type": "stream",
     "text": [
      "\n",
      "\n",
      "\n",
      "Cluster 5:\n"
     ]
    },
    {
     "data": {
      "image/png": "[encoded data removed]",
      "text/plain": [
       "<Figure size 360x216 with 15 Axes>"
      ]
     },
     "metadata": {},
     "output_type": "display_data"
    },
    {
     "name": "stdout",
     "output_type": "stream",
     "text": [
      "\n",
      "\n",
      "\n",
      "Cluster 6:\n"
     ]
    },
    {
     "data": {
      "image/png": "[encoded data removed]",
      "text/plain": [
       "<Figure size 360x72 with 5 Axes>"
      ]
     },
     "metadata": {},
     "output_type": "display_data"
    },
    {
     "name": "stdout",
     "output_type": "stream",
     "text": [
      "\n",
      "\n",
      "\n",
      "Cluster 7:\n"
     ]
    },
    {
     "data": {
      "image/png": "[encoded data removed]",
      "text/plain": [
       "<Figure size 360x216 with 15 Axes>"
      ]
     },
     "metadata": {},
     "output_type": "display_data"
    },
    {
     "name": "stdout",
     "output_type": "stream",
     "text": [
      "\n",
      "\n",
      "\n",
      "Cluster 8:\n"
     ]
    },
    {
     "data": {
      "image/png": "[encoded data removed]",
      "text/plain": [
       "<Figure size 360x216 with 15 Axes>"
      ]
     },
     "metadata": {},
     "output_type": "display_data"
    },
    {
     "name": "stdout",
     "output_type": "stream",
     "text": [
      "\n",
      "\n",
      "\n",
      "Cluster 9:\n"
     ]
    },
    {
     "data": {
      "image/png": "[encoded data removed]",
      "text/plain": [
       "<Figure size 360x216 with 15 Axes>"
      ]
     },
     "metadata": {},
     "output_type": "display_data"
    }
   ],
   "source": [
    "for cluster in range(10):\n",
    "    print('\\n\\n\\nCluster {}:'.format(int(cluster)))\n",
    "    digits = [ img for l, img in zip(clusters, valid_set[0]) if int(l) == cluster ]\n",
    "    height=((len(digits)-1)//5)+1\n",
    "    width=5\n",
    "    plt.rcParams[\"figure.figsize\"] = (width,height)\n",
    "    _, subplots = plt.subplots(height, width)\n",
    "    subplots=numpy.ndarray.flatten(subplots)\n",
    "    for subplot, image in zip(subplots, digits):\n",
    "        show_digit(image, subplot=subplot)\n",
    "    for subplot in subplots[len(digits):]:\n",
    "        subplot.axis('off')\n",
    "\n",
    "    plt.show()"
   ]
  },
  {
   "cell_type": "code",
   "execution_count": null,
   "metadata": {},
   "outputs": [],
   "source": []
  }
 ],
 "metadata": {
  "kernelspec": {
   "display_name": "conda_python3",
   "language": "python",
   "name": "conda_python3"
  },
  "language_info": {
   "codemirror_mode": {
    "name": "ipython",
    "version": 3
   },
   "file_extension": ".py",
   "mimetype": "text/x-python",
   "name": "python",
   "nbconvert_exporter": "python",
   "pygments_lexer": "ipython3",
   "version": "3.6.5"
  }
 },
 "nbformat": 4,
 "nbformat_minor": 2
}
