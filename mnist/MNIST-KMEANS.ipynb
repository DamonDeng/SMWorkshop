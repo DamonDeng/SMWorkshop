{
 "cells": [
  {
   "cell_type": "markdown",
   "metadata": {},
   "source": [
    "# 使用K-means聚类算法对 MNIST 手写数字进行分类预测"
   ]
  },
  {
   "cell_type": "markdown",
   "metadata": {},
   "source": [
    "手写、单位数编号的MNIST数据集 — 此数据集提供 60,000 个手写、单位数编号的映像示例以及包含 10,000 个映像的测试数据集。\n",
    "\n",
    "使用 Amazon SageMaker 提供的 k-means 算法。K-means 是一种集群算法。在模型训练期间，该算法将手写编号的示例数据分为 10 个集群 (从 0 到 9，每个编号各一个集群)。有关该算法的更多信息，请参阅K-Means 算法。\n",
    "\n",
    "在本练习中，将执行以下操作：\n",
    "1 将 MNIST 数据集下载到您的 Amazon SageMaker 笔记本实例，然后查看数据并进行预处理。\n",
    "2 启动一个 Amazon SageMaker 训练任务。\n",
    "3 在 Amazon SageMaker 中部署模型。\n",
    "4 通过将推理请求发送至模型的终端节点来验证模型。请发送手写单位数编号的映像。模型将返回映像所属的集群的编号 (0 到 9)。\n",
    "\n",
    "对于模型训练、部署和验证，使用以下选项：\n",
    "Amazon SageMaker 提供的高级 Python 库，该高级库提取了多个实施的详细信息，并且易于使用。此练习提供了分别使用这两种库的代码示例。如果您是 Amazon SageMaker 的新用户，建议使用高级 Python 库。有关更多信息，请参阅 Amazon SageMaker 编程模型 。"
   ]
  },
  {
   "cell_type": "code",
   "execution_count": null,
   "metadata": {
    "scrolled": true
   },
   "outputs": [],
   "source": [
    "# 获取Sagemker的执行角色，并定义用于训练的S3存储桶名称\n",
    "from sagemaker import get_execution_role\n",
    "\n",
    "role = get_execution_role()\n",
    "bucket='your_bucket'"
   ]
  },
  {
   "cell_type": "markdown",
   "metadata": {},
   "source": [
    "下载mnist的数据集合到notebook实例本地，分别导入训练集、验证集、测试集"
   ]
  },
  {
   "cell_type": "code",
   "execution_count": null,
   "metadata": {},
   "outputs": [],
   "source": [
    "%%time\n",
    "import pickle, gzip, numpy, urllib.request, json\n",
    "\n",
    "# Download the mnist dataset\n",
    "urllib.request.urlretrieve(\"http://deeplearning.net/data/mnist/mnist.pkl.gz\", \"mnist.pkl.gz\")\n",
    "with gzip.open('mnist.pkl.gz', 'rb') as f:\n",
    "    train_set, valid_set, test_set = pickle.load(f, encoding='latin1')"
   ]
  },
  {
   "cell_type": "markdown",
   "metadata": {},
   "source": [
    "定义一个绘画函数show_digit，用来将mnist中的数字画出来，在这里将训练集中第30张图片画出来"
   ]
  },
  {
   "cell_type": "code",
   "execution_count": null,
   "metadata": {},
   "outputs": [],
   "source": [
    "%matplotlib inline\n",
    "import matplotlib.pyplot as plt\n",
    "plt.rcParams[\"figure.figsize\"] = (2,10)\n",
    "\n",
    "\n",
    "def show_digit(img, caption='', subplot=None):\n",
    "    if subplot==None:\n",
    "        _,(subplot)=plt.subplots(1,1)\n",
    "    imgr=img.reshape((28,28))\n",
    "    subplot.axis('off')\n",
    "    subplot.imshow(imgr, cmap='gray')\n",
    "    plt.title(caption)\n",
    "\n",
    "show_digit(train_set[0][30], 'This is a {}'.format(train_set[1][30]))"
   ]
  },
  {
   "cell_type": "markdown",
   "metadata": {},
   "source": [
    "为了训练模型，Amazon SageMaker 需要提供以下信息：\n",
    "\n",
    "训练算法 — 指定包含训练代码的 Docker 镜像的注册表路径。在以下示例中，当使用高级 Python 库，无需明确指定此路径。sagemaker.amazon.kmeans.KMeans 对象知道该路径。\n",
    "\n",
    "K-Means算法的超级参数 — 指定K-Means算法的超级参数以影响模型的最终质量。k=10，代表把mnist分成10类，0～9。\n",
    "\n",
    "输入和输出配置 — 提供用于存储训练数据且 Amazon SageMaker 用于保存模型训练结果 (模型项目) 的 S3 存储桶。"
   ]
  },
  {
   "cell_type": "code",
   "execution_count": null,
   "metadata": {
    "scrolled": true
   },
   "outputs": [],
   "source": [
    "from sagemaker import KMeans\n",
    "\n",
    "data_location = 's3://{}/kmeans_highlevel_example/data'.format(bucket)\n",
    "output_location = 's3://{}/kmeans_example/output'.format(bucket)\n",
    "\n",
    "print('training data will be uploaded to: {}'.format(data_location))\n",
    "print('training artifacts will be uploaded to: {}'.format(output_location))\n",
    "\n",
    "kmeans = KMeans(role=role,\n",
    "                train_instance_count=1,\n",
    "                train_instance_type='ml.c5.2xlarge',\n",
    "                output_path=output_location,\n",
    "                k=10,\n",
    "                data_location=data_location)"
   ]
  },
  {
   "cell_type": "markdown",
   "metadata": {},
   "source": [
    "调用 fit 方法启动模型训练。"
   ]
  },
  {
   "cell_type": "code",
   "execution_count": null,
   "metadata": {
    "scrolled": false
   },
   "outputs": [],
   "source": [
    "%%time\n",
    "\n",
    "kmeans.fit(kmeans.record_set(train_set[0]))"
   ]
  },
  {
   "cell_type": "markdown",
   "metadata": {},
   "source": [
    "调用 deploy 方法部署模型。"
   ]
  },
  {
   "cell_type": "code",
   "execution_count": null,
   "metadata": {
    "scrolled": true
   },
   "outputs": [],
   "source": [
    "%%time\n",
    "\n",
    "kmeans_predictor = kmeans.deploy(initial_instance_count=1,\n",
    "                                 instance_type='ml.m4.xlarge')"
   ]
  },
  {
   "cell_type": "markdown",
   "metadata": {},
   "source": [
    "获取关于 valid_set 测试数据集中第 30 张手写编号图像的推理。响应表明输入映像属于集群X。它还显示了该集群的平均平方距离。\n",
    "#### 注意\n",
    "在 k-means 实施中，集群编号与其所代表的数字不一致。例如，该算法可能将手写编号 3 的图像分到集群 0 中，将编号 4 的图像分到集群 9 中。"
   ]
  },
  {
   "cell_type": "code",
   "execution_count": null,
   "metadata": {},
   "outputs": [],
   "source": [
    "\n",
    "result = kmeans_predictor.predict(valid_set[0][30:31])\n",
    "print(result)"
   ]
  },
  {
   "cell_type": "markdown",
   "metadata": {},
   "source": [
    "获取 valid_set 验证集中前100 张图像的推理结果。"
   ]
  },
  {
   "cell_type": "code",
   "execution_count": null,
   "metadata": {
    "scrolled": true
   },
   "outputs": [],
   "source": [
    "%%time \n",
    "\n",
    "result = kmeans_predictor.predict(valid_set[0][0:100])\n",
    "clusters = [r.label['closest_cluster'].float32_tensor.values[0] for r in result]"
   ]
  },
  {
   "cell_type": "markdown",
   "metadata": {},
   "source": [
    "将推理的结果划分相似图像的集群。以下视图显示了模型返回的10个集群："
   ]
  },
  {
   "cell_type": "code",
   "execution_count": null,
   "metadata": {},
   "outputs": [],
   "source": [
    "for cluster in range(10):\n",
    "    print('\\n\\n\\nCluster {}:'.format(int(cluster)))\n",
    "    digits = [ img for l, img in zip(clusters, valid_set[0]) if int(l) == cluster ]\n",
    "    height=((len(digits)-1)//5)+1\n",
    "    width=5\n",
    "    plt.rcParams[\"figure.figsize\"] = (width,height)\n",
    "    _, subplots = plt.subplots(height, width)\n",
    "    subplots=numpy.ndarray.flatten(subplots)\n",
    "    for subplot, image in zip(subplots, digits):\n",
    "        show_digit(image, subplot=subplot)\n",
    "    for subplot in subplots[len(digits):]:\n",
    "        subplot.axis('off')\n",
    "\n",
    "    plt.show()"
   ]
  },
  {
   "cell_type": "code",
   "execution_count": null,
   "metadata": {},
   "outputs": [],
   "source": []
  }
 ],
 "metadata": {
  "kernelspec": {
   "display_name": "conda_python3",
   "language": "python",
   "name": "conda_python3"
  },
  "language_info": {
   "codemirror_mode": {
    "name": "ipython",
    "version": 3
   },
   "file_extension": ".py",
   "mimetype": "text/x-python",
   "name": "python",
   "nbconvert_exporter": "python",
   "pygments_lexer": "ipython3",
   "version": "3.6.5"
  }
 },
 "nbformat": 4,
 "nbformat_minor": 2
}
